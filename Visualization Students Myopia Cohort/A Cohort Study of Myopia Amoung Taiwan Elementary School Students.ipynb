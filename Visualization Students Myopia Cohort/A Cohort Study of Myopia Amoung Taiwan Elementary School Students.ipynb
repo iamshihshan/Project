{
 "cells": [
  {
   "cell_type": "markdown",
   "metadata": {},
   "source": [
    "# A Cohort Study of Myopia Amoung Taiwan Elementary School Students\n",
    "---\n",
    "* <b>Population</b> : one of elementary school students at Taiwan New Taipei city\n",
    "* <b>Tracking Time period</b> : 2011 - 2016\n",
    "> <b>Description :</b>\n",
    "> This mimi project use python module Bokeh to create interactive charts for insight the Myopia progress among elementary school students  "
   ]
  },
  {
   "cell_type": "markdown",
   "metadata": {},
   "source": [
    "## Import modules"
   ]
  },
  {
   "cell_type": "code",
   "execution_count": 6,
   "metadata": {
    "collapsed": false
   },
   "outputs": [],
   "source": [
    "from bokeh.plotting import figure, gridplot, output_file, show, vplot\n",
    "from bokeh.models import HoverTool, layouts"
   ]
  },
  {
   "cell_type": "markdown",
   "metadata": {},
   "source": [
    "## A Cohort Study of Myopia Amoung Taiwan Elementary School Students"
   ]
  },
  {
   "cell_type": "code",
   "execution_count": 3,
   "metadata": {
    "collapsed": false
   },
   "outputs": [],
   "source": [
    "output_file(\"out1.html\", title=\"A Cohort Study of Myopia Amoung Taiwan Elementary School Students\")\n",
    "\n",
    "# add a line renderer with a NaN\n",
    "NaN = float('nan') \n",
    "\n",
    "# Set X-Y\n",
    "Sem =[\"2011 S1\",\"2011 S2\",\"2012 S1\",\"2012 S2\",\"2013 S1\",\"2013 S2\",\"2014 S1\",\"2014 S2\",\"2015 S1\",\"2015 S2\",\"2016 S1\"]\n",
    "\n",
    "y6G = {'val': [48.9, 58.5, 39.6, 37.5, 44.4, 50.5, 54.9, 58.8, 60, 59, 65.4], 'color' : \"black\", 'legend':'2011 Entered Current G6'}\n",
    "y5G = {'val': [NaN, NaN, 20.4, 21.4, 21.5, 36.1, 39.8, 43.4, 46, 49.6, 51.3], 'color' : \"firebrick\", 'legend':'2012 Entered Current G5'}\n",
    "y4G = {'val': [NaN, NaN, NaN, NaN, 24.8, 25.7, 29, 40.2, 40, 42.3, 48.2], 'color' : \"navy\", 'legend':'2013 Entered Current G4'}\n",
    "y3G = {'val': [NaN, NaN, NaN, NaN, NaN, NaN, 23.4, 29.7, 31, 34.5, 35], 'color' : \"green\", 'legend':'2014 Entered Current G3'}\n",
    "y2G = {'val': [NaN, NaN, NaN, NaN, NaN, NaN, NaN, NaN, 25.3, 23, 33.3], 'color' : \"purple\", 'legend':'2015 Entered Current G2'}\n",
    "y1G = {'val': [NaN, NaN, NaN, NaN, NaN, NaN, NaN, NaN, NaN, NaN, 37.2], 'color' : \"pink\", 'legend':'2016 Entered Current G1'}\n",
    "\n",
    "iterate = [y6G,y5G,y4G,y3G,y2G,y1G]\n",
    "\n",
    "# Set Figure Structure\n",
    "st1 = figure(title=\"Student Myopia Cohort by Current Study Grades\",\n",
    "             x_axis_label='Study Years - Semesters',\n",
    "             y_axis_label='Average Vision',\n",
    "             x_range=Sem,\n",
    "             width=1000,\n",
    "             height=500,\n",
    "             tools=\"\")\n",
    "\n",
    "st1.title.text_font_size = '25pt'\n",
    "\n",
    "# Set plot type for each Grade\n",
    "for G in iterate:\n",
    "    po1 = st1.line(Sem, G['val'], line_color=G['color'], line_width=8, legend=G['legend'])\n",
    "    st1.circle(Sem, G['val'], fill_color=G['color'], size=16 , legend=G['legend'])\n",
    "    st1.legend.location=\"bottom_left\"\n",
    "    st1.legend.border_line_color = \"gray\"\n",
    "    st1.add_tools(HoverTool(renderers=[po1], tooltips={\"Average Vision\":\"$y\", \"Year-Semester\":\"$x\"}))\n",
    " \n",
    "#show(st1)"
   ]
  },
  {
   "cell_type": "markdown",
   "metadata": {},
   "source": [
    "## A Cohort Study of Myopia Amoung Taiwan Elementary School Students"
   ]
  },
  {
   "cell_type": "code",
   "execution_count": 4,
   "metadata": {
    "collapsed": false
   },
   "outputs": [],
   "source": [
    "output_file(\"out2.html\", title=\"A Cohort Study of Myopia Amoung Taiwan Elementary School Students\")\n",
    "\n",
    "# add a line renderer with a NaN\n",
    "NaN = float('nan') \n",
    "Y2011_S1 = {'val': [48.9, NaN, NaN, NaN, NaN, NaN], 'color' : \"#000000\", 'legend':'2011 Semester 1'}\n",
    "Y2011_S2 = {'val': [58.5, NaN, NaN, NaN, NaN, NaN], 'color' : \"#000033\", 'legend':'2011 Semester 2'}\n",
    "Y2012_S1 = {'val': [39.6, 20.4, NaN, NaN, NaN, NaN], 'color' : \"#000066\", 'legend':'2012 Semester 1'}\n",
    "Y2012_S2 = {'val': [37.5, 21.4, NaN, NaN, NaN, NaN], 'color' : \"#000099\", 'legend':'2012 Semester 2'}\n",
    "Y2013_S1 = {'val': [44.4, 21.5, 24.8, NaN, NaN, NaN], 'color' : \"#0000cc\", 'legend':'2013 Semester 1'}\n",
    "Y2013_S2 = {'val': [50.5, 36.1, 25.7, NaN, NaN, NaN], 'color' : \"#0000ff\", 'legend':'2013 Semester 2'}\n",
    "Y2014_S1 = {'val': [54.9, 39.8, 29, 23.4, NaN, NaN], 'color' : \"#3333ff\", 'legend':'2014 Semester 1'}\n",
    "Y2014_S2 = {'val': [58.8, 43.4, 40.2, 29.7, NaN, NaN], 'color' : \"#6666ff\", 'legend':'2014 Semester 2'}\n",
    "Y2015_S1 = {'val': [60, 46, 40, 31, 25.3, NaN], 'color' : \"#9999ff\", 'legend':'2015 Semester 1'}\n",
    "Y2015_S2 = {'val': [59, 49.6, 42.3, 34.5, 23, NaN], 'color' : \"#ccccff\", 'legend':'2015 Semester 2'}\n",
    "Y2016_S1 = {'val': [65.4, 51.3, 48.2, 35, 33.3, 37.2], 'color' : \"#e6e6ff\", 'legend':'2016 Semester 1'}\n",
    "\n",
    "Grade =[\"Grade 6\",\"Grade 5\", \"Grade 4\", \"Grade 3\", \"Grade 2\", \"Grade 1\"]\n",
    "iterate = [Y2011_S1, Y2011_S2, Y2012_S1, Y2012_S2, Y2013_S1, Y2013_S2,\n",
    "           Y2014_S1, Y2014_S2, Y2015_S1, Y2015_S2, Y2016_S1]\n",
    "\n",
    "# Set Figure Structure\n",
    "st2 = figure(title=\"Snapshot Student Myopia Cohort by Each Semesters\",\n",
    "             x_axis_label='Grades',\n",
    "             y_axis_label='Average Vision',\n",
    "             x_range=Grade,\n",
    "             width=1000,\n",
    "             height=580,\n",
    "             tools=\"\")\n",
    "\n",
    "st2.title.text_font_size = '25pt'\n",
    "\n",
    "# Set plot type for each Semester\n",
    "for S in iterate:\n",
    "    po2 = st2.line(Grade, S['val'], line_color=S['color'], line_width=8, legend=S['legend'])\n",
    "    st2.circle(Grade, S['val'], fill_color=S['color'], size=16 , legend=S['legend'])\n",
    "    st2.legend.border_line_color = \"gray\"\n",
    "    st2.add_tools(HoverTool(renderers=[po2], tooltips={\"Average Vision\":\"$y\", \"Grade\":\"$x\"}))\n",
    "    \n",
    "#show(st2)"
   ]
  },
  {
   "cell_type": "markdown",
   "metadata": {},
   "source": [
    "## Combine two interactive charts"
   ]
  },
  {
   "cell_type": "code",
   "execution_count": 7,
   "metadata": {
    "collapsed": false
   },
   "outputs": [],
   "source": [
    "output_file(\"Students Myopia Cohort.html\")\n",
    "\n",
    "# put all the plots in a VBox\n",
    "a = layouts.Column(st1, st2)\n",
    "\n",
    "# show the results\n",
    "show(a)"
   ]
  },
  {
   "cell_type": "markdown",
   "metadata": {},
   "source": [
    "### Reference link : \n",
    "####    - Bokeh user guide : http://bokeh.pydata.org/en/latest/docs/user_guide.html\n",
    "####    - Color name : http://www.w3schools.com/colors/colors_names.asp"
   ]
  }
 ],
 "metadata": {
  "kernelspec": {
   "display_name": "Python 3",
   "language": "python",
   "name": "python3"
  },
  "language_info": {
   "codemirror_mode": {
    "name": "ipython",
    "version": 3
   },
   "file_extension": ".py",
   "mimetype": "text/x-python",
   "name": "python",
   "nbconvert_exporter": "python",
   "pygments_lexer": "ipython3",
   "version": "3.5.2"
  }
 },
 "nbformat": 4,
 "nbformat_minor": 0
}
